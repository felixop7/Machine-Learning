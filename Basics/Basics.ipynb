{
 "cells": [
  {
   "cell_type": "code",
   "execution_count": 1,
   "id": "ff22fc76",
   "metadata": {},
   "outputs": [
    {
     "name": "stdout",
     "output_type": "stream",
     "text": [
      "Hello World\n"
     ]
    }
   ],
   "source": [
    "print(\"Hello World\")"
   ]
  },
  {
   "cell_type": "code",
   "execution_count": 2,
   "id": "4a89cc8d",
   "metadata": {},
   "outputs": [
    {
     "data": {
      "text/plain": [
       "100"
      ]
     },
     "execution_count": 2,
     "metadata": {},
     "output_type": "execute_result"
    }
   ],
   "source": [
    "# Variables\n",
    "rent = 3500\n",
    "khana = 100\n",
    "lunch = 200\n",
    "khana"
   ]
  },
  {
   "cell_type": "code",
   "execution_count": 3,
   "id": "4fc8cff9",
   "metadata": {},
   "outputs": [
    {
     "name": "stdout",
     "output_type": "stream",
     "text": [
      "Expense Items: rent dinner lunch\n"
     ]
    },
    {
     "data": {
      "text/plain": [
       "'rent'"
      ]
     },
     "execution_count": 3,
     "metadata": {},
     "output_type": "execute_result"
    }
   ],
   "source": [
    "item1 = \"rent\"\n",
    "item2 =\"dinner\"\n",
    "item3 =\"lunch\"\n",
    "# Difference between displaying with print and without is the out\n",
    "print(\"Expense Items:\",item1,item2,item3)\n",
    "item1\n"
   ]
  },
  {
   "cell_type": "code",
   "execution_count": 5,
   "id": "1427ffa4",
   "metadata": {},
   "outputs": [
    {
     "data": {
      "text/plain": [
       "8500"
      ]
     },
     "execution_count": 5,
     "metadata": {},
     "output_type": "execute_result"
    }
   ],
   "source": [
    "total = rent + 10*khana + 20*lunch\n",
    "total"
   ]
  },
  {
   "cell_type": "code",
   "execution_count": 6,
   "id": "94542aea",
   "metadata": {},
   "outputs": [
    {
     "data": {
      "text/plain": [
       "'r'"
      ]
     },
     "execution_count": 6,
     "metadata": {},
     "output_type": "execute_result"
    }
   ],
   "source": [
    "item1[0]"
   ]
  },
  {
   "cell_type": "code",
   "execution_count": 7,
   "id": "ca8ba319",
   "metadata": {},
   "outputs": [
    {
     "data": {
      "text/plain": [
       "'ent'"
      ]
     },
     "execution_count": 7,
     "metadata": {},
     "output_type": "execute_result"
    }
   ],
   "source": [
    "item1[1:]"
   ]
  },
  {
   "cell_type": "code",
   "execution_count": 8,
   "id": "86cce0e7",
   "metadata": {},
   "outputs": [
    {
     "data": {
      "text/plain": [
       "'ren'"
      ]
     },
     "execution_count": 8,
     "metadata": {},
     "output_type": "execute_result"
    }
   ],
   "source": [
    "item1[:3]"
   ]
  },
  {
   "cell_type": "code",
   "execution_count": 9,
   "id": "3bba960c",
   "metadata": {},
   "outputs": [
    {
     "data": {
      "text/plain": [
       "['UN Resident Coordinator Office Nepal held nuanced discussions on the equitable inclusion of Nepali women with regards to the digitization of finance.\"',\n",
       " 'AI ',\n",
       " 'digitization ',\n",
       " 'DigitAll ',\n",
       " 'RingTheBell ',\n",
       " 'genderequality ',\n",
       " 'womenempowerment ',\n",
       " 'techforgood']"
      ]
     },
     "execution_count": 9,
     "metadata": {},
     "output_type": "execute_result"
    }
   ],
   "source": [
    "tweet ='UN Resident Coordinator Office Nepal held nuanced discussions on the equitable inclusion of Nepali women with regards to the digitization of finance.\"#AI #digitization #DigitAll #RingTheBell #genderequality #womenempowerment #techforgood'\n",
    "tweet.split('#')"
   ]
  },
  {
   "cell_type": "code",
   "execution_count": 10,
   "id": "23bddb99",
   "metadata": {},
   "outputs": [
    {
     "name": "stdout",
     "output_type": "stream",
     "text": [
      "let\"s learn Machine Learning\n"
     ]
    },
    {
     "data": {
      "text/plain": [
       "'let\"s learn Machine Learning'"
      ]
     },
     "execution_count": 10,
     "metadata": {},
     "output_type": "execute_result"
    }
   ],
   "source": [
    "text = 'let\"s learn Machine Learning'\n",
    "print(text)\n",
    "text"
   ]
  },
  {
   "cell_type": "code",
   "execution_count": 11,
   "id": "d915e56b",
   "metadata": {},
   "outputs": [
    {
     "name": "stdout",
     "output_type": "stream",
     "text": [
      "\"let's learn python first\" -said Felix \n"
     ]
    }
   ],
   "source": [
    "another_text = '\"let\\'s learn python first\" -said Felix '\n",
    "print(another_text)\n"
   ]
  },
  {
   "cell_type": "code",
   "execution_count": 12,
   "id": "0e12c89e",
   "metadata": {},
   "outputs": [
    {
     "name": "stdout",
     "output_type": "stream",
     "text": [
      "28-kilo \n",
      "Dhulikhel\n",
      "Kavre\n",
      "\n"
     ]
    },
    {
     "data": {
      "text/plain": [
       "'28-kilo \\nDhulikhel\\nKavre\\n'"
      ]
     },
     "execution_count": 12,
     "metadata": {},
     "output_type": "execute_result"
    }
   ],
   "source": [
    "address ='''28-kilo \n",
    "Dhulikhel\n",
    "Kavre\n",
    "'''\n",
    "print(address)\n",
    "address"
   ]
  },
  {
   "cell_type": "code",
   "execution_count": 13,
   "id": "f849d93c",
   "metadata": {},
   "outputs": [
    {
     "name": "stdout",
     "output_type": "stream",
     "text": [
      "Enter a number: 54\n"
     ]
    },
    {
     "data": {
      "text/plain": [
       "str"
      ]
     },
     "execution_count": 13,
     "metadata": {},
     "output_type": "execute_result"
    }
   ],
   "source": [
    "num = 69\n",
    "num = input(\"Enter a number: \")\n",
    "\n",
    "type(num)"
   ]
  },
  {
   "cell_type": "code",
   "execution_count": 14,
   "id": "931b4374",
   "metadata": {},
   "outputs": [
    {
     "data": {
      "text/plain": [
       "42.0"
      ]
     },
     "execution_count": 14,
     "metadata": {},
     "output_type": "execute_result"
    }
   ],
   "source": [
    "num =42\n",
    "float(num)"
   ]
  },
  {
   "cell_type": "code",
   "execution_count": 15,
   "id": "69e03829",
   "metadata": {},
   "outputs": [
    {
     "data": {
      "text/plain": [
       "'total states in Nepal is: 7'"
      ]
     },
     "execution_count": 15,
     "metadata": {},
     "output_type": "execute_result"
    }
   ],
   "source": [
    "s = 'total states in Nepal is: '\n",
    "num =7\n",
    "s + str(num)"
   ]
  },
  {
   "cell_type": "code",
   "execution_count": 1,
   "id": "18046b50",
   "metadata": {},
   "outputs": [
    {
     "data": {
      "text/plain": [
       "1.5555555555555556"
      ]
     },
     "execution_count": 1,
     "metadata": {},
     "output_type": "execute_result"
    }
   ],
   "source": [
    "distance = 28\n",
    "speed = 18\n",
    "time = distance/speed\n",
    "time"
   ]
  },
  {
   "cell_type": "code",
   "execution_count": 2,
   "id": "799d00fa",
   "metadata": {},
   "outputs": [
    {
     "data": {
      "text/plain": [
       "1.56"
      ]
     },
     "execution_count": 2,
     "metadata": {},
     "output_type": "execute_result"
    }
   ],
   "source": [
    "round(time,2)"
   ]
  },
  {
   "cell_type": "code",
   "execution_count": 3,
   "id": "8f157aa7",
   "metadata": {},
   "outputs": [
    {
     "data": {
      "text/plain": [
       "0.2999999999999998"
      ]
     },
     "execution_count": 3,
     "metadata": {},
     "output_type": "execute_result"
    }
   ],
   "source": [
    "6-5.7\n",
    "#Accuracy and precision problem"
   ]
  },
  {
   "cell_type": "code",
   "execution_count": 6,
   "id": "bbda2f2d",
   "metadata": {},
   "outputs": [
    {
     "name": "stdout",
     "output_type": "stream",
     "text": [
      "odd\n"
     ]
    }
   ],
   "source": [
    "#logical\n",
    "num=7\n",
    "num = int(num)\n",
    "if num  == 0:\n",
    "    print(\"Zero\")\n",
    "elif num %2 ==0:\n",
    "    print(\"Even\")\n",
    "else:\n",
    "    print(\"odd\")"
   ]
  },
  {
   "cell_type": "code",
   "execution_count": 7,
   "id": "db8cafc0",
   "metadata": {},
   "outputs": [
    {
     "data": {
      "text/plain": [
       "True"
      ]
     },
     "execution_count": 7,
     "metadata": {},
     "output_type": "execute_result"
    }
   ],
   "source": [
    "3 > 2 and 4>1"
   ]
  },
  {
   "cell_type": "code",
   "execution_count": 8,
   "id": "041e2307",
   "metadata": {},
   "outputs": [
    {
     "data": {
      "text/plain": [
       "False"
      ]
     },
     "execution_count": 8,
     "metadata": {},
     "output_type": "execute_result"
    }
   ],
   "source": [
    "3>2 and 3 ==2"
   ]
  },
  {
   "cell_type": "code",
   "execution_count": 9,
   "id": "ca7190d3",
   "metadata": {},
   "outputs": [
    {
     "name": "stdout",
     "output_type": "stream",
     "text": [
      "middle\n"
     ]
    }
   ],
   "source": [
    "if 1 == 2:\n",
    "    print('first')\n",
    "elif 3 == 3:\n",
    "    print('middle')\n",
    "elif 4==4:\n",
    "    print(\"Second Last\")\n",
    "else:\n",
    "    print('Last')"
   ]
  },
  {
   "cell_type": "code",
   "execution_count": null,
   "id": "2bafe3dc",
   "metadata": {},
   "outputs": [],
   "source": []
  }
 ],
 "metadata": {
  "kernelspec": {
   "display_name": "Python 3 (ipykernel)",
   "language": "python",
   "name": "python3"
  },
  "language_info": {
   "codemirror_mode": {
    "name": "ipython",
    "version": 3
   },
   "file_extension": ".py",
   "mimetype": "text/x-python",
   "name": "python",
   "nbconvert_exporter": "python",
   "pygments_lexer": "ipython3",
   "version": "3.11.2"
  }
 },
 "nbformat": 4,
 "nbformat_minor": 5
}
