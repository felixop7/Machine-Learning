{
 "cells": [
  {
   "cell_type": "code",
   "execution_count": 1,
   "id": "d33f8e3a",
   "metadata": {},
   "outputs": [],
   "source": [
    "import numpy as np\n",
    "import pandas as pd\n",
    "from numpy.random import randn"
   ]
  },
  {
   "cell_type": "code",
   "execution_count": 2,
   "id": "154f2f75",
   "metadata": {},
   "outputs": [],
   "source": [
    "labels = ['Felix','Hud','Abiral']\n",
    "my_list = [1,4,5]\n",
    "arr = np.array([1,4,5])\n",
    "d = {'Felix':1,'Hud':4,'Abiral':5}"
   ]
  },
  {
   "cell_type": "code",
   "execution_count": 3,
   "id": "43f1a7fb",
   "metadata": {},
   "outputs": [
    {
     "data": {
      "text/plain": [
       "0    1\n",
       "1    4\n",
       "2    5\n",
       "dtype: int64"
      ]
     },
     "execution_count": 3,
     "metadata": {},
     "output_type": "execute_result"
    }
   ],
   "source": [
    "pd.Series(data=my_list)"
   ]
  },
  {
   "cell_type": "code",
   "execution_count": 4,
   "id": "1bbb0f4e",
   "metadata": {},
   "outputs": [
    {
     "name": "stdout",
     "output_type": "stream",
     "text": [
      "Familarity With Python\n"
     ]
    },
    {
     "data": {
      "text/plain": [
       "Felix     1\n",
       "Hud       4\n",
       "Abiral    5\n",
       "dtype: int64"
      ]
     },
     "execution_count": 4,
     "metadata": {},
     "output_type": "execute_result"
    }
   ],
   "source": [
    "print(\"Familarity With Python\")\n",
    "pd.Series(data=my_list,index=labels)"
   ]
  },
  {
   "cell_type": "code",
   "execution_count": 5,
   "id": "d669a828",
   "metadata": {},
   "outputs": [
    {
     "data": {
      "text/plain": [
       "0    1\n",
       "1    4\n",
       "2    5\n",
       "dtype: int32"
      ]
     },
     "execution_count": 5,
     "metadata": {},
     "output_type": "execute_result"
    }
   ],
   "source": [
    "pd.Series(data = arr)"
   ]
  },
  {
   "cell_type": "code",
   "execution_count": 6,
   "id": "1b4b4584",
   "metadata": {},
   "outputs": [
    {
     "data": {
      "text/plain": [
       "Felix     1\n",
       "Hud       4\n",
       "Abiral    5\n",
       "dtype: int32"
      ]
     },
     "execution_count": 6,
     "metadata": {},
     "output_type": "execute_result"
    }
   ],
   "source": [
    "pd.Series(arr,labels)"
   ]
  },
  {
   "cell_type": "code",
   "execution_count": 7,
   "id": "9609291e",
   "metadata": {},
   "outputs": [
    {
     "data": {
      "text/plain": [
       "Felix     1\n",
       "Hud       4\n",
       "Abiral    5\n",
       "dtype: int64"
      ]
     },
     "execution_count": 7,
     "metadata": {},
     "output_type": "execute_result"
    }
   ],
   "source": [
    "ser = pd.Series(d)\n",
    "ser"
   ]
  },
  {
   "cell_type": "code",
   "execution_count": 8,
   "id": "f2330c80",
   "metadata": {},
   "outputs": [
    {
     "data": {
      "text/plain": [
       "0     Felix\n",
       "1       Hud\n",
       "2    Abiral\n",
       "dtype: object"
      ]
     },
     "execution_count": 8,
     "metadata": {},
     "output_type": "execute_result"
    }
   ],
   "source": [
    "pd.Series(data=labels)"
   ]
  },
  {
   "cell_type": "code",
   "execution_count": 9,
   "id": "8ff0bed2",
   "metadata": {},
   "outputs": [
    {
     "data": {
      "text/plain": [
       "4"
      ]
     },
     "execution_count": 9,
     "metadata": {},
     "output_type": "execute_result"
    }
   ],
   "source": [
    "ser['Hud']"
   ]
  },
  {
   "cell_type": "code",
   "execution_count": 10,
   "id": "06e7f34e",
   "metadata": {},
   "outputs": [
    {
     "data": {
      "text/plain": [
       "USA        1\n",
       "Germany    2\n",
       "USSR       3\n",
       "Japan      4\n",
       "dtype: int64"
      ]
     },
     "execution_count": 10,
     "metadata": {},
     "output_type": "execute_result"
    }
   ],
   "source": [
    "ser1 = pd.Series([1,2,3,4],index = ['USA', 'Germany','USSR', 'Japan'])        \n",
    "ser1"
   ]
  },
  {
   "cell_type": "code",
   "execution_count": 11,
   "id": "d8220e41",
   "metadata": {},
   "outputs": [
    {
     "data": {
      "text/plain": [
       "USA        1\n",
       "Germany    2\n",
       "Italy      5\n",
       "Japan      4\n",
       "dtype: int64"
      ]
     },
     "execution_count": 11,
     "metadata": {},
     "output_type": "execute_result"
    }
   ],
   "source": [
    "ser2 = pd.Series([1,2,5,4],index = ['USA', 'Germany','Italy', 'Japan'])     \n",
    "ser2"
   ]
  },
  {
   "cell_type": "code",
   "execution_count": 12,
   "id": "6327c063",
   "metadata": {},
   "outputs": [
    {
     "data": {
      "text/plain": [
       "Germany    4.0\n",
       "Italy      NaN\n",
       "Japan      8.0\n",
       "USA        2.0\n",
       "USSR       NaN\n",
       "dtype: float64"
      ]
     },
     "execution_count": 12,
     "metadata": {},
     "output_type": "execute_result"
    }
   ],
   "source": [
    "ser1+ser2"
   ]
  },
  {
   "cell_type": "code",
   "execution_count": 13,
   "id": "f14575c9",
   "metadata": {},
   "outputs": [
    {
     "data": {
      "text/plain": [
       "Germany    4.0\n",
       "Italy      NaN\n",
       "Japan      8.0\n",
       "USA        2.0\n",
       "USSR       NaN\n",
       "dtype: float64"
      ]
     },
     "execution_count": 13,
     "metadata": {},
     "output_type": "execute_result"
    }
   ],
   "source": [
    "ser1.add(ser2)"
   ]
  },
  {
   "cell_type": "code",
   "execution_count": 14,
   "id": "45d157b5",
   "metadata": {},
   "outputs": [],
   "source": [
    "df = pd.DataFrame(randn(5,4),index=('A', 'B' ,'C','D','E'),columns='W X Y Z'.split())"
   ]
  },
  {
   "cell_type": "code",
   "execution_count": 15,
   "id": "64dee45a",
   "metadata": {},
   "outputs": [
    {
     "data": {
      "text/html": [
       "<div>\n",
       "<style scoped>\n",
       "    .dataframe tbody tr th:only-of-type {\n",
       "        vertical-align: middle;\n",
       "    }\n",
       "\n",
       "    .dataframe tbody tr th {\n",
       "        vertical-align: top;\n",
       "    }\n",
       "\n",
       "    .dataframe thead th {\n",
       "        text-align: right;\n",
       "    }\n",
       "</style>\n",
       "<table border=\"1\" class=\"dataframe\">\n",
       "  <thead>\n",
       "    <tr style=\"text-align: right;\">\n",
       "      <th></th>\n",
       "      <th>W</th>\n",
       "      <th>X</th>\n",
       "      <th>Y</th>\n",
       "      <th>Z</th>\n",
       "    </tr>\n",
       "  </thead>\n",
       "  <tbody>\n",
       "    <tr>\n",
       "      <th>A</th>\n",
       "      <td>-0.435096</td>\n",
       "      <td>-0.060735</td>\n",
       "      <td>-1.377433</td>\n",
       "      <td>-0.680921</td>\n",
       "    </tr>\n",
       "    <tr>\n",
       "      <th>B</th>\n",
       "      <td>-0.685588</td>\n",
       "      <td>1.472304</td>\n",
       "      <td>-1.132112</td>\n",
       "      <td>0.529295</td>\n",
       "    </tr>\n",
       "    <tr>\n",
       "      <th>C</th>\n",
       "      <td>-1.356979</td>\n",
       "      <td>-0.300260</td>\n",
       "      <td>-0.319857</td>\n",
       "      <td>-0.956465</td>\n",
       "    </tr>\n",
       "    <tr>\n",
       "      <th>D</th>\n",
       "      <td>0.564980</td>\n",
       "      <td>-2.477843</td>\n",
       "      <td>-0.302480</td>\n",
       "      <td>-0.196465</td>\n",
       "    </tr>\n",
       "    <tr>\n",
       "      <th>E</th>\n",
       "      <td>0.181023</td>\n",
       "      <td>0.536345</td>\n",
       "      <td>-0.424725</td>\n",
       "      <td>-1.291406</td>\n",
       "    </tr>\n",
       "  </tbody>\n",
       "</table>\n",
       "</div>"
      ],
      "text/plain": [
       "          W         X         Y         Z\n",
       "A -0.435096 -0.060735 -1.377433 -0.680921\n",
       "B -0.685588  1.472304 -1.132112  0.529295\n",
       "C -1.356979 -0.300260 -0.319857 -0.956465\n",
       "D  0.564980 -2.477843 -0.302480 -0.196465\n",
       "E  0.181023  0.536345 -0.424725 -1.291406"
      ]
     },
     "execution_count": 15,
     "metadata": {},
     "output_type": "execute_result"
    }
   ],
   "source": [
    "df"
   ]
  },
  {
   "cell_type": "code",
   "execution_count": 16,
   "id": "f0b05558",
   "metadata": {},
   "outputs": [
    {
     "data": {
      "text/plain": [
       "pandas.core.frame.DataFrame"
      ]
     },
     "execution_count": 16,
     "metadata": {},
     "output_type": "execute_result"
    }
   ],
   "source": [
    "type(df)"
   ]
  },
  {
   "cell_type": "code",
   "execution_count": 17,
   "id": "e4ba35df",
   "metadata": {},
   "outputs": [
    {
     "data": {
      "text/plain": [
       "pandas.core.series.Series"
      ]
     },
     "execution_count": 17,
     "metadata": {},
     "output_type": "execute_result"
    }
   ],
   "source": [
    "type(df['W'])"
   ]
  },
  {
   "cell_type": "code",
   "execution_count": 18,
   "id": "c872dca3",
   "metadata": {},
   "outputs": [
    {
     "data": {
      "text/html": [
       "<div>\n",
       "<style scoped>\n",
       "    .dataframe tbody tr th:only-of-type {\n",
       "        vertical-align: middle;\n",
       "    }\n",
       "\n",
       "    .dataframe tbody tr th {\n",
       "        vertical-align: top;\n",
       "    }\n",
       "\n",
       "    .dataframe thead th {\n",
       "        text-align: right;\n",
       "    }\n",
       "</style>\n",
       "<table border=\"1\" class=\"dataframe\">\n",
       "  <thead>\n",
       "    <tr style=\"text-align: right;\">\n",
       "      <th></th>\n",
       "      <th>W</th>\n",
       "      <th>X</th>\n",
       "      <th>Y</th>\n",
       "      <th>Z</th>\n",
       "      <th>new</th>\n",
       "    </tr>\n",
       "  </thead>\n",
       "  <tbody>\n",
       "    <tr>\n",
       "      <th>A</th>\n",
       "      <td>-0.435096</td>\n",
       "      <td>-0.060735</td>\n",
       "      <td>-1.377433</td>\n",
       "      <td>-0.680921</td>\n",
       "      <td>-1.812529</td>\n",
       "    </tr>\n",
       "    <tr>\n",
       "      <th>B</th>\n",
       "      <td>-0.685588</td>\n",
       "      <td>1.472304</td>\n",
       "      <td>-1.132112</td>\n",
       "      <td>0.529295</td>\n",
       "      <td>-1.817700</td>\n",
       "    </tr>\n",
       "    <tr>\n",
       "      <th>C</th>\n",
       "      <td>-1.356979</td>\n",
       "      <td>-0.300260</td>\n",
       "      <td>-0.319857</td>\n",
       "      <td>-0.956465</td>\n",
       "      <td>-1.676836</td>\n",
       "    </tr>\n",
       "    <tr>\n",
       "      <th>D</th>\n",
       "      <td>0.564980</td>\n",
       "      <td>-2.477843</td>\n",
       "      <td>-0.302480</td>\n",
       "      <td>-0.196465</td>\n",
       "      <td>0.262500</td>\n",
       "    </tr>\n",
       "    <tr>\n",
       "      <th>E</th>\n",
       "      <td>0.181023</td>\n",
       "      <td>0.536345</td>\n",
       "      <td>-0.424725</td>\n",
       "      <td>-1.291406</td>\n",
       "      <td>-0.243702</td>\n",
       "    </tr>\n",
       "  </tbody>\n",
       "</table>\n",
       "</div>"
      ],
      "text/plain": [
       "          W         X         Y         Z       new\n",
       "A -0.435096 -0.060735 -1.377433 -0.680921 -1.812529\n",
       "B -0.685588  1.472304 -1.132112  0.529295 -1.817700\n",
       "C -1.356979 -0.300260 -0.319857 -0.956465 -1.676836\n",
       "D  0.564980 -2.477843 -0.302480 -0.196465  0.262500\n",
       "E  0.181023  0.536345 -0.424725 -1.291406 -0.243702"
      ]
     },
     "execution_count": 18,
     "metadata": {},
     "output_type": "execute_result"
    }
   ],
   "source": [
    "df['new'] = df['W'] + df['Y']\n",
    "df"
   ]
  },
  {
   "cell_type": "code",
   "execution_count": 19,
   "id": "13125fcf",
   "metadata": {},
   "outputs": [
    {
     "data": {
      "text/html": [
       "<div>\n",
       "<style scoped>\n",
       "    .dataframe tbody tr th:only-of-type {\n",
       "        vertical-align: middle;\n",
       "    }\n",
       "\n",
       "    .dataframe tbody tr th {\n",
       "        vertical-align: top;\n",
       "    }\n",
       "\n",
       "    .dataframe thead th {\n",
       "        text-align: right;\n",
       "    }\n",
       "</style>\n",
       "<table border=\"1\" class=\"dataframe\">\n",
       "  <thead>\n",
       "    <tr style=\"text-align: right;\">\n",
       "      <th></th>\n",
       "      <th>W</th>\n",
       "      <th>X</th>\n",
       "      <th>Y</th>\n",
       "      <th>Z</th>\n",
       "    </tr>\n",
       "  </thead>\n",
       "  <tbody>\n",
       "    <tr>\n",
       "      <th>A</th>\n",
       "      <td>-0.435096</td>\n",
       "      <td>-0.060735</td>\n",
       "      <td>-1.377433</td>\n",
       "      <td>-0.680921</td>\n",
       "    </tr>\n",
       "    <tr>\n",
       "      <th>B</th>\n",
       "      <td>-0.685588</td>\n",
       "      <td>1.472304</td>\n",
       "      <td>-1.132112</td>\n",
       "      <td>0.529295</td>\n",
       "    </tr>\n",
       "    <tr>\n",
       "      <th>C</th>\n",
       "      <td>-1.356979</td>\n",
       "      <td>-0.300260</td>\n",
       "      <td>-0.319857</td>\n",
       "      <td>-0.956465</td>\n",
       "    </tr>\n",
       "    <tr>\n",
       "      <th>D</th>\n",
       "      <td>0.564980</td>\n",
       "      <td>-2.477843</td>\n",
       "      <td>-0.302480</td>\n",
       "      <td>-0.196465</td>\n",
       "    </tr>\n",
       "    <tr>\n",
       "      <th>E</th>\n",
       "      <td>0.181023</td>\n",
       "      <td>0.536345</td>\n",
       "      <td>-0.424725</td>\n",
       "      <td>-1.291406</td>\n",
       "    </tr>\n",
       "  </tbody>\n",
       "</table>\n",
       "</div>"
      ],
      "text/plain": [
       "          W         X         Y         Z\n",
       "A -0.435096 -0.060735 -1.377433 -0.680921\n",
       "B -0.685588  1.472304 -1.132112  0.529295\n",
       "C -1.356979 -0.300260 -0.319857 -0.956465\n",
       "D  0.564980 -2.477843 -0.302480 -0.196465\n",
       "E  0.181023  0.536345 -0.424725 -1.291406"
      ]
     },
     "execution_count": 19,
     "metadata": {},
     "output_type": "execute_result"
    }
   ],
   "source": [
    "df.drop('new',axis=1)"
   ]
  },
  {
   "cell_type": "code",
   "execution_count": 20,
   "id": "eaf74056",
   "metadata": {},
   "outputs": [
    {
     "data": {
      "text/html": [
       "<div>\n",
       "<style scoped>\n",
       "    .dataframe tbody tr th:only-of-type {\n",
       "        vertical-align: middle;\n",
       "    }\n",
       "\n",
       "    .dataframe tbody tr th {\n",
       "        vertical-align: top;\n",
       "    }\n",
       "\n",
       "    .dataframe thead th {\n",
       "        text-align: right;\n",
       "    }\n",
       "</style>\n",
       "<table border=\"1\" class=\"dataframe\">\n",
       "  <thead>\n",
       "    <tr style=\"text-align: right;\">\n",
       "      <th></th>\n",
       "      <th>W</th>\n",
       "      <th>X</th>\n",
       "      <th>Y</th>\n",
       "      <th>Z</th>\n",
       "      <th>new</th>\n",
       "    </tr>\n",
       "  </thead>\n",
       "  <tbody>\n",
       "    <tr>\n",
       "      <th>A</th>\n",
       "      <td>-0.435096</td>\n",
       "      <td>-0.060735</td>\n",
       "      <td>-1.377433</td>\n",
       "      <td>-0.680921</td>\n",
       "      <td>-1.812529</td>\n",
       "    </tr>\n",
       "    <tr>\n",
       "      <th>B</th>\n",
       "      <td>-0.685588</td>\n",
       "      <td>1.472304</td>\n",
       "      <td>-1.132112</td>\n",
       "      <td>0.529295</td>\n",
       "      <td>-1.817700</td>\n",
       "    </tr>\n",
       "    <tr>\n",
       "      <th>C</th>\n",
       "      <td>-1.356979</td>\n",
       "      <td>-0.300260</td>\n",
       "      <td>-0.319857</td>\n",
       "      <td>-0.956465</td>\n",
       "      <td>-1.676836</td>\n",
       "    </tr>\n",
       "    <tr>\n",
       "      <th>D</th>\n",
       "      <td>0.564980</td>\n",
       "      <td>-2.477843</td>\n",
       "      <td>-0.302480</td>\n",
       "      <td>-0.196465</td>\n",
       "      <td>0.262500</td>\n",
       "    </tr>\n",
       "    <tr>\n",
       "      <th>E</th>\n",
       "      <td>0.181023</td>\n",
       "      <td>0.536345</td>\n",
       "      <td>-0.424725</td>\n",
       "      <td>-1.291406</td>\n",
       "      <td>-0.243702</td>\n",
       "    </tr>\n",
       "  </tbody>\n",
       "</table>\n",
       "</div>"
      ],
      "text/plain": [
       "          W         X         Y         Z       new\n",
       "A -0.435096 -0.060735 -1.377433 -0.680921 -1.812529\n",
       "B -0.685588  1.472304 -1.132112  0.529295 -1.817700\n",
       "C -1.356979 -0.300260 -0.319857 -0.956465 -1.676836\n",
       "D  0.564980 -2.477843 -0.302480 -0.196465  0.262500\n",
       "E  0.181023  0.536345 -0.424725 -1.291406 -0.243702"
      ]
     },
     "execution_count": 20,
     "metadata": {},
     "output_type": "execute_result"
    }
   ],
   "source": [
    "df"
   ]
  },
  {
   "cell_type": "code",
   "execution_count": 21,
   "id": "e0e6d411",
   "metadata": {},
   "outputs": [],
   "source": [
    "df.drop('new',axis=1,inplace=True)"
   ]
  },
  {
   "cell_type": "code",
   "execution_count": 22,
   "id": "c60277d5",
   "metadata": {},
   "outputs": [
    {
     "data": {
      "text/html": [
       "<div>\n",
       "<style scoped>\n",
       "    .dataframe tbody tr th:only-of-type {\n",
       "        vertical-align: middle;\n",
       "    }\n",
       "\n",
       "    .dataframe tbody tr th {\n",
       "        vertical-align: top;\n",
       "    }\n",
       "\n",
       "    .dataframe thead th {\n",
       "        text-align: right;\n",
       "    }\n",
       "</style>\n",
       "<table border=\"1\" class=\"dataframe\">\n",
       "  <thead>\n",
       "    <tr style=\"text-align: right;\">\n",
       "      <th></th>\n",
       "      <th>W</th>\n",
       "      <th>X</th>\n",
       "      <th>Y</th>\n",
       "      <th>Z</th>\n",
       "    </tr>\n",
       "  </thead>\n",
       "  <tbody>\n",
       "    <tr>\n",
       "      <th>A</th>\n",
       "      <td>-0.435096</td>\n",
       "      <td>-0.060735</td>\n",
       "      <td>-1.377433</td>\n",
       "      <td>-0.680921</td>\n",
       "    </tr>\n",
       "    <tr>\n",
       "      <th>B</th>\n",
       "      <td>-0.685588</td>\n",
       "      <td>1.472304</td>\n",
       "      <td>-1.132112</td>\n",
       "      <td>0.529295</td>\n",
       "    </tr>\n",
       "    <tr>\n",
       "      <th>C</th>\n",
       "      <td>-1.356979</td>\n",
       "      <td>-0.300260</td>\n",
       "      <td>-0.319857</td>\n",
       "      <td>-0.956465</td>\n",
       "    </tr>\n",
       "    <tr>\n",
       "      <th>D</th>\n",
       "      <td>0.564980</td>\n",
       "      <td>-2.477843</td>\n",
       "      <td>-0.302480</td>\n",
       "      <td>-0.196465</td>\n",
       "    </tr>\n",
       "    <tr>\n",
       "      <th>E</th>\n",
       "      <td>0.181023</td>\n",
       "      <td>0.536345</td>\n",
       "      <td>-0.424725</td>\n",
       "      <td>-1.291406</td>\n",
       "    </tr>\n",
       "  </tbody>\n",
       "</table>\n",
       "</div>"
      ],
      "text/plain": [
       "          W         X         Y         Z\n",
       "A -0.435096 -0.060735 -1.377433 -0.680921\n",
       "B -0.685588  1.472304 -1.132112  0.529295\n",
       "C -1.356979 -0.300260 -0.319857 -0.956465\n",
       "D  0.564980 -2.477843 -0.302480 -0.196465\n",
       "E  0.181023  0.536345 -0.424725 -1.291406"
      ]
     },
     "execution_count": 22,
     "metadata": {},
     "output_type": "execute_result"
    }
   ],
   "source": [
    "df"
   ]
  },
  {
   "cell_type": "code",
   "execution_count": 23,
   "id": "3b8c39a6",
   "metadata": {},
   "outputs": [
    {
     "data": {
      "text/html": [
       "<div>\n",
       "<style scoped>\n",
       "    .dataframe tbody tr th:only-of-type {\n",
       "        vertical-align: middle;\n",
       "    }\n",
       "\n",
       "    .dataframe tbody tr th {\n",
       "        vertical-align: top;\n",
       "    }\n",
       "\n",
       "    .dataframe thead th {\n",
       "        text-align: right;\n",
       "    }\n",
       "</style>\n",
       "<table border=\"1\" class=\"dataframe\">\n",
       "  <thead>\n",
       "    <tr style=\"text-align: right;\">\n",
       "      <th></th>\n",
       "      <th>W</th>\n",
       "      <th>X</th>\n",
       "      <th>Y</th>\n",
       "      <th>Z</th>\n",
       "    </tr>\n",
       "  </thead>\n",
       "  <tbody>\n",
       "    <tr>\n",
       "      <th>A</th>\n",
       "      <td>-0.435096</td>\n",
       "      <td>-0.060735</td>\n",
       "      <td>-1.377433</td>\n",
       "      <td>-0.680921</td>\n",
       "    </tr>\n",
       "    <tr>\n",
       "      <th>B</th>\n",
       "      <td>-0.685588</td>\n",
       "      <td>1.472304</td>\n",
       "      <td>-1.132112</td>\n",
       "      <td>0.529295</td>\n",
       "    </tr>\n",
       "    <tr>\n",
       "      <th>D</th>\n",
       "      <td>0.564980</td>\n",
       "      <td>-2.477843</td>\n",
       "      <td>-0.302480</td>\n",
       "      <td>-0.196465</td>\n",
       "    </tr>\n",
       "    <tr>\n",
       "      <th>E</th>\n",
       "      <td>0.181023</td>\n",
       "      <td>0.536345</td>\n",
       "      <td>-0.424725</td>\n",
       "      <td>-1.291406</td>\n",
       "    </tr>\n",
       "  </tbody>\n",
       "</table>\n",
       "</div>"
      ],
      "text/plain": [
       "          W         X         Y         Z\n",
       "A -0.435096 -0.060735 -1.377433 -0.680921\n",
       "B -0.685588  1.472304 -1.132112  0.529295\n",
       "D  0.564980 -2.477843 -0.302480 -0.196465\n",
       "E  0.181023  0.536345 -0.424725 -1.291406"
      ]
     },
     "execution_count": 23,
     "metadata": {},
     "output_type": "execute_result"
    }
   ],
   "source": [
    "df.drop('C',axis=0)"
   ]
  },
  {
   "cell_type": "code",
   "execution_count": 24,
   "id": "3739682b",
   "metadata": {},
   "outputs": [
    {
     "data": {
      "text/html": [
       "<div>\n",
       "<style scoped>\n",
       "    .dataframe tbody tr th:only-of-type {\n",
       "        vertical-align: middle;\n",
       "    }\n",
       "\n",
       "    .dataframe tbody tr th {\n",
       "        vertical-align: top;\n",
       "    }\n",
       "\n",
       "    .dataframe thead th {\n",
       "        text-align: right;\n",
       "    }\n",
       "</style>\n",
       "<table border=\"1\" class=\"dataframe\">\n",
       "  <thead>\n",
       "    <tr style=\"text-align: right;\">\n",
       "      <th></th>\n",
       "      <th>W</th>\n",
       "      <th>X</th>\n",
       "      <th>Y</th>\n",
       "      <th>Z</th>\n",
       "    </tr>\n",
       "  </thead>\n",
       "  <tbody>\n",
       "    <tr>\n",
       "      <th>A</th>\n",
       "      <td>-0.435096</td>\n",
       "      <td>-0.060735</td>\n",
       "      <td>-1.377433</td>\n",
       "      <td>-0.680921</td>\n",
       "    </tr>\n",
       "    <tr>\n",
       "      <th>B</th>\n",
       "      <td>-0.685588</td>\n",
       "      <td>1.472304</td>\n",
       "      <td>-1.132112</td>\n",
       "      <td>0.529295</td>\n",
       "    </tr>\n",
       "    <tr>\n",
       "      <th>C</th>\n",
       "      <td>-1.356979</td>\n",
       "      <td>-0.300260</td>\n",
       "      <td>-0.319857</td>\n",
       "      <td>-0.956465</td>\n",
       "    </tr>\n",
       "    <tr>\n",
       "      <th>D</th>\n",
       "      <td>0.564980</td>\n",
       "      <td>-2.477843</td>\n",
       "      <td>-0.302480</td>\n",
       "      <td>-0.196465</td>\n",
       "    </tr>\n",
       "    <tr>\n",
       "      <th>E</th>\n",
       "      <td>0.181023</td>\n",
       "      <td>0.536345</td>\n",
       "      <td>-0.424725</td>\n",
       "      <td>-1.291406</td>\n",
       "    </tr>\n",
       "  </tbody>\n",
       "</table>\n",
       "</div>"
      ],
      "text/plain": [
       "          W         X         Y         Z\n",
       "A -0.435096 -0.060735 -1.377433 -0.680921\n",
       "B -0.685588  1.472304 -1.132112  0.529295\n",
       "C -1.356979 -0.300260 -0.319857 -0.956465\n",
       "D  0.564980 -2.477843 -0.302480 -0.196465\n",
       "E  0.181023  0.536345 -0.424725 -1.291406"
      ]
     },
     "execution_count": 24,
     "metadata": {},
     "output_type": "execute_result"
    }
   ],
   "source": [
    "df"
   ]
  }
 ],
 "metadata": {
  "kernelspec": {
   "display_name": "Python 3 (ipykernel)",
   "language": "python",
   "name": "python3"
  },
  "language_info": {
   "codemirror_mode": {
    "name": "ipython",
    "version": 3
   },
   "file_extension": ".py",
   "mimetype": "text/x-python",
   "name": "python",
   "nbconvert_exporter": "python",
   "pygments_lexer": "ipython3",
   "version": "3.11.2"
  }
 },
 "nbformat": 4,
 "nbformat_minor": 5
}
