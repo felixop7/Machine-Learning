{
 "cells": [
  {
   "cell_type": "code",
   "execution_count": 1,
   "id": "ff22fc76",
   "metadata": {},
   "outputs": [
    {
     "name": "stdout",
     "output_type": "stream",
     "text": [
      "Hello World\n"
     ]
    }
   ],
   "source": [
    "print(\"Hello World\")"
   ]
  },
  {
   "cell_type": "markdown",
   "id": "6bc22c35",
   "metadata": {},
   "source": [
    "# Variables"
   ]
  },
  {
   "cell_type": "code",
   "execution_count": 2,
   "id": "4a89cc8d",
   "metadata": {},
   "outputs": [
    {
     "data": {
      "text/plain": [
       "100"
      ]
     },
     "execution_count": 2,
     "metadata": {},
     "output_type": "execute_result"
    }
   ],
   "source": [
    "# Variables\n",
    "rent = 3500\n",
    "khana = 100\n",
    "lunch = 200\n",
    "khana"
   ]
  },
  {
   "cell_type": "code",
   "execution_count": 3,
   "id": "4fc8cff9",
   "metadata": {},
   "outputs": [
    {
     "name": "stdout",
     "output_type": "stream",
     "text": [
      "Expense Items: rent dinner lunch\n"
     ]
    },
    {
     "data": {
      "text/plain": [
       "'rent'"
      ]
     },
     "execution_count": 3,
     "metadata": {},
     "output_type": "execute_result"
    }
   ],
   "source": [
    "item1 = \"rent\"\n",
    "item2 =\"dinner\"\n",
    "item3 =\"lunch\"\n",
    "# Difference between displaying with print and without is the out\n",
    "print(\"Expense Items:\",item1,item2,item3)\n",
    "item1\n"
   ]
  },
  {
   "cell_type": "code",
   "execution_count": 5,
   "id": "1427ffa4",
   "metadata": {},
   "outputs": [
    {
     "data": {
      "text/plain": [
       "8500"
      ]
     },
     "execution_count": 5,
     "metadata": {},
     "output_type": "execute_result"
    }
   ],
   "source": [
    "total = rent + 10*khana + 20*lunch\n",
    "total"
   ]
  },
  {
   "cell_type": "markdown",
   "id": "4f4851c9",
   "metadata": {},
   "source": [
    "# Strings"
   ]
  },
  {
   "cell_type": "code",
   "execution_count": 6,
   "id": "94542aea",
   "metadata": {},
   "outputs": [
    {
     "data": {
      "text/plain": [
       "'r'"
      ]
     },
     "execution_count": 6,
     "metadata": {},
     "output_type": "execute_result"
    }
   ],
   "source": [
    "item1[0]"
   ]
  },
  {
   "cell_type": "code",
   "execution_count": 7,
   "id": "ca8ba319",
   "metadata": {},
   "outputs": [
    {
     "data": {
      "text/plain": [
       "'ent'"
      ]
     },
     "execution_count": 7,
     "metadata": {},
     "output_type": "execute_result"
    }
   ],
   "source": [
    "item1[1:]"
   ]
  },
  {
   "cell_type": "code",
   "execution_count": 8,
   "id": "86cce0e7",
   "metadata": {},
   "outputs": [
    {
     "data": {
      "text/plain": [
       "'ren'"
      ]
     },
     "execution_count": 8,
     "metadata": {},
     "output_type": "execute_result"
    }
   ],
   "source": [
    "item1[:3]"
   ]
  },
  {
   "cell_type": "code",
   "execution_count": 9,
   "id": "3bba960c",
   "metadata": {},
   "outputs": [
    {
     "data": {
      "text/plain": [
       "['UN Resident Coordinator Office Nepal held nuanced discussions on the equitable inclusion of Nepali women with regards to the digitization of finance.\"',\n",
       " 'AI ',\n",
       " 'digitization ',\n",
       " 'DigitAll ',\n",
       " 'RingTheBell ',\n",
       " 'genderequality ',\n",
       " 'womenempowerment ',\n",
       " 'techforgood']"
      ]
     },
     "execution_count": 9,
     "metadata": {},
     "output_type": "execute_result"
    }
   ],
   "source": [
    "tweet ='UN Resident Coordinator Office Nepal held nuanced discussions on the equitable inclusion of Nepali women with regards to the digitization of finance.\"#AI #digitization #DigitAll #RingTheBell #genderequality #womenempowerment #techforgood'\n",
    "tweet.split('#')"
   ]
  },
  {
   "cell_type": "code",
   "execution_count": 10,
   "id": "23bddb99",
   "metadata": {},
   "outputs": [
    {
     "name": "stdout",
     "output_type": "stream",
     "text": [
      "let\"s learn Machine Learning\n"
     ]
    },
    {
     "data": {
      "text/plain": [
       "'let\"s learn Machine Learning'"
      ]
     },
     "execution_count": 10,
     "metadata": {},
     "output_type": "execute_result"
    }
   ],
   "source": [
    "text = 'let\"s learn Machine Learning'\n",
    "print(text)\n",
    "text"
   ]
  },
  {
   "cell_type": "code",
   "execution_count": 11,
   "id": "d915e56b",
   "metadata": {},
   "outputs": [
    {
     "name": "stdout",
     "output_type": "stream",
     "text": [
      "\"let's learn python first\" -said Felix \n"
     ]
    }
   ],
   "source": [
    "another_text = '\"let\\'s learn python first\" -said Felix '\n",
    "print(another_text)\n"
   ]
  },
  {
   "cell_type": "code",
   "execution_count": 12,
   "id": "0e12c89e",
   "metadata": {},
   "outputs": [
    {
     "name": "stdout",
     "output_type": "stream",
     "text": [
      "28-kilo \n",
      "Dhulikhel\n",
      "Kavre\n",
      "\n"
     ]
    },
    {
     "data": {
      "text/plain": [
       "'28-kilo \\nDhulikhel\\nKavre\\n'"
      ]
     },
     "execution_count": 12,
     "metadata": {},
     "output_type": "execute_result"
    }
   ],
   "source": [
    "address ='''28-kilo \n",
    "Dhulikhel\n",
    "Kavre\n",
    "'''\n",
    "print(address)\n",
    "address"
   ]
  },
  {
   "cell_type": "markdown",
   "id": "4e03632b",
   "metadata": {},
   "source": [
    "# Inputs"
   ]
  },
  {
   "cell_type": "code",
   "execution_count": 13,
   "id": "f849d93c",
   "metadata": {},
   "outputs": [
    {
     "name": "stdout",
     "output_type": "stream",
     "text": [
      "Enter a number: 54\n"
     ]
    },
    {
     "data": {
      "text/plain": [
       "str"
      ]
     },
     "execution_count": 13,
     "metadata": {},
     "output_type": "execute_result"
    }
   ],
   "source": [
    "num = 69\n",
    "num = input(\"Enter a number: \")\n",
    "\n",
    "type(num)"
   ]
  },
  {
   "cell_type": "code",
   "execution_count": 14,
   "id": "931b4374",
   "metadata": {},
   "outputs": [
    {
     "data": {
      "text/plain": [
       "42.0"
      ]
     },
     "execution_count": 14,
     "metadata": {},
     "output_type": "execute_result"
    }
   ],
   "source": [
    "num =42\n",
    "float(num)"
   ]
  },
  {
   "cell_type": "code",
   "execution_count": 15,
   "id": "69e03829",
   "metadata": {},
   "outputs": [
    {
     "data": {
      "text/plain": [
       "'total states in Nepal is: 7'"
      ]
     },
     "execution_count": 15,
     "metadata": {},
     "output_type": "execute_result"
    }
   ],
   "source": [
    "s = 'total states in Nepal is: '\n",
    "num =7\n",
    "s + str(num)"
   ]
  },
  {
   "cell_type": "markdown",
   "id": "4fb30cc2",
   "metadata": {},
   "source": [
    "# Operators"
   ]
  },
  {
   "cell_type": "code",
   "execution_count": 1,
   "id": "18046b50",
   "metadata": {},
   "outputs": [
    {
     "data": {
      "text/plain": [
       "1.5555555555555556"
      ]
     },
     "execution_count": 1,
     "metadata": {},
     "output_type": "execute_result"
    }
   ],
   "source": [
    "distance = 28\n",
    "speed = 18\n",
    "time = distance/speed\n",
    "time"
   ]
  },
  {
   "cell_type": "code",
   "execution_count": 2,
   "id": "799d00fa",
   "metadata": {},
   "outputs": [
    {
     "data": {
      "text/plain": [
       "1.56"
      ]
     },
     "execution_count": 2,
     "metadata": {},
     "output_type": "execute_result"
    }
   ],
   "source": [
    "round(time,2)"
   ]
  },
  {
   "cell_type": "code",
   "execution_count": 3,
   "id": "8f157aa7",
   "metadata": {},
   "outputs": [
    {
     "data": {
      "text/plain": [
       "0.2999999999999998"
      ]
     },
     "execution_count": 3,
     "metadata": {},
     "output_type": "execute_result"
    }
   ],
   "source": [
    "6-5.7\n",
    "#Accuracy and precision problem"
   ]
  },
  {
   "cell_type": "markdown",
   "id": "32484d3b",
   "metadata": {},
   "source": [
    "# Logical"
   ]
  },
  {
   "cell_type": "code",
   "execution_count": 6,
   "id": "bbda2f2d",
   "metadata": {},
   "outputs": [
    {
     "name": "stdout",
     "output_type": "stream",
     "text": [
      "odd\n"
     ]
    }
   ],
   "source": [
    "#logical\n",
    "num=7\n",
    "num = int(num)\n",
    "if num  == 0:\n",
    "    print(\"Zero\")\n",
    "elif num %2 ==0:\n",
    "    print(\"Even\")\n",
    "else:\n",
    "    print(\"odd\")"
   ]
  },
  {
   "cell_type": "code",
   "execution_count": 7,
   "id": "db8cafc0",
   "metadata": {},
   "outputs": [
    {
     "data": {
      "text/plain": [
       "True"
      ]
     },
     "execution_count": 7,
     "metadata": {},
     "output_type": "execute_result"
    }
   ],
   "source": [
    "3 > 2 and 4>1"
   ]
  },
  {
   "cell_type": "code",
   "execution_count": 8,
   "id": "041e2307",
   "metadata": {},
   "outputs": [
    {
     "data": {
      "text/plain": [
       "False"
      ]
     },
     "execution_count": 8,
     "metadata": {},
     "output_type": "execute_result"
    }
   ],
   "source": [
    "3>2 and 3 ==2"
   ]
  },
  {
   "cell_type": "code",
   "execution_count": 9,
   "id": "ca7190d3",
   "metadata": {},
   "outputs": [
    {
     "name": "stdout",
     "output_type": "stream",
     "text": [
      "middle\n"
     ]
    }
   ],
   "source": [
    "if 1 == 2:\n",
    "    print('first')\n",
    "elif 3 == 3:\n",
    "    print('middle')\n",
    "elif 4==4:\n",
    "    print(\"Second Last\")\n",
    "else:\n",
    "\n",
    "    print('Last')"
   ]
  },
  {
   "cell_type": "markdown",
   "id": "70b36015",
   "metadata": {},
   "source": [
    "# LOOPs:\n",
    "\n"
   ]
  },
  {
   "cell_type": "markdown",
   "id": "98165e67",
   "metadata": {},
   "source": [
    "\n",
    "item1 = \"rent\"\n",
    "item2 =\"dinner\"\n",
    "item3 =\"lunch\"\n",
    "costs =[3500,6000,3000,4000,2000]\n",
    "items =[item1,item2,item3]\n",
    "\n",
    "print(items)\n",
    "items+costs\n"
   ]
  },
  {
   "cell_type": "code",
   "execution_count": 2,
   "id": "f2700d7a",
   "metadata": {},
   "outputs": [
    {
     "data": {
      "text/plain": [
       "5"
      ]
     },
     "execution_count": 2,
     "metadata": {},
     "output_type": "execute_result"
    }
   ],
   "source": [
    "len(costs)\n"
   ]
  },
  {
   "cell_type": "code",
   "execution_count": 3,
   "id": "a7b55a17",
   "metadata": {},
   "outputs": [
    {
     "data": {
      "text/plain": [
       "[3500, 6000, 3000, 4000, 2000]"
      ]
     },
     "execution_count": 3,
     "metadata": {},
     "output_type": "execute_result"
    }
   ],
   "source": [
    "costs"
   ]
  },
  {
   "cell_type": "code",
   "execution_count": 4,
   "id": "19034d9a",
   "metadata": {},
   "outputs": [
    {
     "name": "stdout",
     "output_type": "stream",
     "text": [
      "18500\n"
     ]
    }
   ],
   "source": [
    "sum = 0\n",
    "for cost in costs:\n",
    "    sum += cost\n",
    "print(sum)"
   ]
  },
  {
   "cell_type": "code",
   "execution_count": 6,
   "id": "b0953b5d",
   "metadata": {},
   "outputs": [
    {
     "data": {
      "text/plain": [
       "[0, 1, 2, 3, 4]"
      ]
     },
     "execution_count": 6,
     "metadata": {},
     "output_type": "execute_result"
    }
   ],
   "source": [
    "list(range(0,5))"
   ]
  },
  {
   "cell_type": "code",
   "execution_count": 7,
   "id": "52ec0113",
   "metadata": {},
   "outputs": [
    {
     "data": {
      "text/plain": [
       "[0, 1, 2, 3, 4, 5, 6, 7, 8, 9]"
      ]
     },
     "execution_count": 7,
     "metadata": {},
     "output_type": "execute_result"
    }
   ],
   "source": [
    "list(range(10))"
   ]
  },
  {
   "cell_type": "code",
   "execution_count": 8,
   "id": "5cf358c9",
   "metadata": {},
   "outputs": [
    {
     "name": "stdout",
     "output_type": "stream",
     "text": [
      "1\n",
      "2\n",
      "3\n",
      "4\n",
      "5\n",
      "6\n",
      "7\n",
      "8\n",
      "9\n",
      "10\n"
     ]
    }
   ],
   "source": [
    "# To print 1 to 10\n",
    "for i in range(1,11):\n",
    "    print(i)"
   ]
  },
  {
   "cell_type": "code",
   "execution_count": 9,
   "id": "22ac235c",
   "metadata": {},
   "outputs": [
    {
     "name": "stdout",
     "output_type": "stream",
     "text": [
      "1\n",
      "2\n",
      "3\n",
      "4\n",
      "5\n"
     ]
    }
   ],
   "source": [
    "i=1\n",
    "while i<=5 :\n",
    "    print(i)\n",
    "    i=i+1"
   ]
  },
  {
   "cell_type": "code",
   "execution_count": 10,
   "id": "b4d995e8",
   "metadata": {},
   "outputs": [
    {
     "name": "stdout",
     "output_type": "stream",
     "text": [
      "1\n"
     ]
    }
   ],
   "source": [
    "\"\"\"Print square of all numbers between 1 to 10 except even numbers\"\"\"\n",
    "for i in range(1,11):\n",
    "    if i % 2 == 0:\n",
    "        break\n",
    "    else:\n",
    "        print(i)"
   ]
  },
  {
   "cell_type": "code",
   "execution_count": 11,
   "id": "ef61795b",
   "metadata": {},
   "outputs": [
    {
     "name": "stdout",
     "output_type": "stream",
     "text": [
      "1\n"
     ]
    }
   ],
   "source": [
    "\"\"\"Print square of all numbers between 1 to 10 except even numbers\"\"\"\n",
    "for i in range(1,11):\n",
    "    if i % 2 == 0:\n",
    "        break\n",
    "    else:\n",
    "        print(i)\n",
    "else:\n",
    "    print(\"Finished\")"
   ]
  },
  {
   "cell_type": "code",
   "execution_count": 12,
   "id": "11297a59",
   "metadata": {},
   "outputs": [
    {
     "name": "stdout",
     "output_type": "stream",
     "text": [
      "r\n",
      "e\n",
      "n\n",
      "t\n"
     ]
    }
   ],
   "source": [
    "items[0]\n",
    "for i in items[0]:\n",
    "    print(i)"
   ]
  },
  {
   "cell_type": "code",
   "execution_count": null,
   "id": "8c10886f",
   "metadata": {},
   "outputs": [],
   "source": []
  },
  {
   "cell_type": "markdown",
   "id": "f77b5790",
   "metadata": {},
   "source": [
    "# Functions"
   ]
  },
  {
   "cell_type": "code",
   "execution_count": 1,
   "id": "283c5129",
   "metadata": {},
   "outputs": [
    {
     "name": "stdout",
     "output_type": "stream",
     "text": [
      "Area of triangle is: 25.0\n"
     ]
    }
   ],
   "source": [
    "def calculate_area(dimension1,dimension2,shape=\"triangle\"):\n",
    "    ''' documentation string\n",
    "    :param dimension1: In case of triangle it is \"base\". For rectangle it is \"length\".\n",
    "    :param dimension2: In case of triangle it is \"height\". For rectangle it is \"width\".\n",
    "    :param shape: Either \"triangle\" or \"rectangle\"\n",
    "    :return: Area of a shape\n",
    "    '''\n",
    "    if shape==\"triangle\":\n",
    "        area=1/2*(dimension1*dimension2) # Triangle area is : 1/2(Base*Height)\n",
    "    elif shape==\"rectangle\":\n",
    "        area=dimension1*dimension2 # Rectangle area is: Length*Width\n",
    "    else:\n",
    "        print(\"***Error: Input shape is neither triangle nor rectangle.\")\n",
    "        area=None # If user didn't supply \"triangle\" or \"rectangle\" as shape then return None\n",
    "    return area\n",
    "\n",
    "# Calculate area of triangle whose base is 10 and height is 5\n",
    "base=10\n",
    "height=5\n",
    "triangle_area=calculate_area(base,height,\"triangle\")\n",
    "print(\"Area of triangle is:\",triangle_area)"
   ]
  },
  {
   "cell_type": "code",
   "execution_count": 2,
   "id": "77af4c20",
   "metadata": {},
   "outputs": [
    {
     "name": "stdout",
     "output_type": "stream",
     "text": [
      "Area of triangle is: 20\n"
     ]
    }
   ],
   "source": [
    "rectangle_area=calculate_area(10,2,\"rectangle\")\n",
    "print(\"Area of triangle is:\",rectangle_area)"
   ]
  },
  {
   "cell_type": "code",
   "execution_count": 3,
   "id": "bd03b96f",
   "metadata": {},
   "outputs": [],
   "source": [
    "#Default Parameter\n",
    "def add_and_multiply(n1=0,n2=0):\n",
    "    '''\n",
    "    Exercise 2\n",
    "    :param n1: Number 1\n",
    "    :param n2: Number 2\n",
    "    :return: a tuple containing sum and multiplication of two input numbers\n",
    "    '''\n",
    "    sum = n1 + n2\n",
    "    mult = n1 * n2\n",
    "    return sum, mult"
   ]
  },
  {
   "cell_type": "code",
   "execution_count": 4,
   "id": "e9c7cde0",
   "metadata": {},
   "outputs": [
    {
     "data": {
      "text/plain": [
       "(0, 0)"
      ]
     },
     "execution_count": 4,
     "metadata": {},
     "output_type": "execute_result"
    }
   ],
   "source": [
    "add_and_multiply()"
   ]
  },
  {
   "cell_type": "code",
   "execution_count": 5,
   "id": "d24ab67c",
   "metadata": {},
   "outputs": [],
   "source": [
    "def age_dictionary():\n",
    "    # Document String\n",
    "    '''\n",
    "    Exercise 1\n",
    "    This program asks for person name and age and builds a dictionary using that\n",
    "    Later on you can input person name and it will tell you the age of that person\n",
    "    :return:\n",
    "    '''\n",
    "    d = {}\n",
    "    while True:\n",
    "        person = input(\"Enter name of the person(To stop don't enter anything and hi Enter key):\")\n",
    "        if person == '':\n",
    "            break\n",
    "        age = input(\"Enter age:\")\n",
    "        d[person] = age\n",
    "        print(\"Dictionary till now {}\".format(d))\n",
    "    print(\"Building dictionary is complete.Now enter name of the person and I'll tell you his/her age\")\n",
    "    while True:\n",
    "        name = input(\"Enter name of the person(To stop don't enter anything and hi Enter key):\")\n",
    "        if name == '':\n",
    "            break\n",
    "        if name in d:\n",
    "            print (\"Age of\", name, \"is:\", d[name])\n",
    "        else:\n",
    "            print (\"I don't know the age of\",name)\n",
    "    print (\"Age dictionary program is finished now\")\n"
   ]
  },
  {
   "cell_type": "code",
   "execution_count": 6,
   "id": "d59d0714",
   "metadata": {},
   "outputs": [
    {
     "name": "stdout",
     "output_type": "stream",
     "text": [
      "The instructor is  Anish\n",
      "The last participant is Samman\n"
     ]
    }
   ],
   "source": [
    "def last_participant(instructor,*participant):\n",
    "    \n",
    "#     print(type(participant))\n",
    "    print(\"The instructor is \",instructor)\n",
    "    print(\"The last participant is \" + participant[-1])\n",
    "\n",
    "last_participant(\"Anish\",\"Suraj\", \"Sushan\", \"Samman\")"
   ]
  },
  {
   "cell_type": "code",
   "execution_count": 7,
   "id": "50e4a586",
   "metadata": {},
   "outputs": [
    {
     "name": "stdout",
     "output_type": "stream",
     "text": [
      "The instructor is  Suraj\n",
      "The last participant is Samman\n"
     ]
    }
   ],
   "source": [
    "list_participant =[\"Suraj\", \"Sushan\", \"Samman\"]\n",
    "last_participant(*list_participant)"
   ]
  },
  {
   "cell_type": "code",
   "execution_count": 8,
   "id": "8aaa614a",
   "metadata": {},
   "outputs": [
    {
     "name": "stdout",
     "output_type": "stream",
     "text": [
      "The instructor is  Anish\n",
      "The last participant is Samman\n",
      "\n",
      " Now meet the heros behind the workshop\n",
      "KUOSC,Adarsha\n"
     ]
    }
   ],
   "source": [
    "# If the arguments to be be passed are unknown \n",
    "def last_participant(instructor,*participant,**heros):\n",
    "    \n",
    "#     print(type(participant))\n",
    "    print(\"The instructor is \",instructor)\n",
    "    print(\"The last participant is \" + participant[-1])\n",
    "    \n",
    "    print(\"\\n Now meet the heros behind the workshop\")\n",
    "    print(f\"{heros['club']},{heros['coordinator']}\")\n",
    "\n",
    "    \n",
    "last_participant(\"Anish\",\"Suraj\", \"Sushan\", \"Samman\",coordinator ='Adarsha',club='KUOSC')"
   ]
  },
  {
   "cell_type": "markdown",
   "id": "59691f3c",
   "metadata": {},
   "source": [
    "# CLASS"
   ]
  },
  {
   "cell_type": "code",
   "execution_count": 1,
   "id": "132e024c",
   "metadata": {},
   "outputs": [
    {
     "name": "stdout",
     "output_type": "stream",
     "text": [
      "Hi, my name is Bob and I'm a clown!\n",
      "Get ready for my amazing tricks!\n",
      "*juggling*\n",
      "*balloon animals*\n",
      "*seltzer spray*\n"
     ]
    }
   ],
   "source": [
    "class Clown:\n",
    "    def __init__(self, name, tricks):\n",
    "        self.name = name\n",
    "        self.tricks = tricks\n",
    "\n",
    "    def introduce(self):\n",
    "        print(f\"Hi, my name is {self.name} and I'm a clown!\")\n",
    "    \n",
    "    def perform_tricks(self):\n",
    "        print(f\"Get ready for my amazing tricks!\")\n",
    "        for trick in self.tricks:\n",
    "            print(f\"*{trick}*\")\n",
    "\n",
    "clown1 = Clown(\"Bob\", [\"juggling\", \"balloon animals\", \"seltzer spray\"])\n",
    "clown1.introduce()\n",
    "clown1.perform_tricks()\n"
   ]
  },
  {
   "cell_type": "markdown",
   "id": "5ce532fa",
   "metadata": {},
   "source": [
    "\n",
    "# LIST\n"
   ]
  },
  {
   "cell_type": "code",
   "execution_count": 5,
   "id": "192ddba6",
   "metadata": {},
   "outputs": [
    {
     "data": {
      "text/plain": [
       "[1, 4, 9, 16]"
      ]
     },
     "execution_count": 5,
     "metadata": {},
     "output_type": "execute_result"
    }
   ],
   "source": [
    "x=[1,2,3,4]\n",
    "out =[]\n",
    "for num in x:\n",
    "    out.append(num**2)\n",
    "out"
   ]
  },
  {
   "cell_type": "markdown",
   "id": "b2da03dc",
   "metadata": {},
   "source": [
    "# Dictionary"
   ]
  },
  {
   "cell_type": "code",
   "execution_count": 6,
   "id": "1736d24c",
   "metadata": {},
   "outputs": [
    {
     "data": {
      "text/plain": [
       "{'Microprocessor': 'Gajendra Sharma',\n",
       " 'MCSC': 'Gokul',\n",
       " 'DSA': 'Deni',\n",
       " 'DBMS': 'Rajani'}"
      ]
     },
     "execution_count": 6,
     "metadata": {},
     "output_type": "execute_result"
    }
   ],
   "source": [
    "d={\"Microprocessor\":'Gajendra Sharma',\"MCSC\":\"Gokul\",\"DSA\":\"Deni\",\"DBMS\":\"Rajani\"}\n",
    "d"
   ]
  },
  {
   "cell_type": "code",
   "execution_count": 7,
   "id": "aac266d6",
   "metadata": {},
   "outputs": [
    {
     "data": {
      "text/plain": [
       "'Rajani'"
      ]
     },
     "execution_count": 7,
     "metadata": {},
     "output_type": "execute_result"
    }
   ],
   "source": [
    "d['DBMS']"
   ]
  },
  {
   "cell_type": "code",
   "execution_count": 8,
   "id": "cf9d7981",
   "metadata": {},
   "outputs": [
    {
     "name": "stdout",
     "output_type": "stream",
     "text": [
      "key: Microprocessor value: Gajendra Sharma\n",
      "key: MCSC value: Gokul\n",
      "key: DSA value: Deni\n",
      "key: DBMS value: Rajani\n"
     ]
    }
   ],
   "source": [
    "for key in d:\n",
    "    print(\"key:\",key,\"value:\",d[key])"
   ]
  },
  {
   "cell_type": "code",
   "execution_count": 9,
   "id": "577d47dd",
   "metadata": {},
   "outputs": [
    {
     "data": {
      "text/plain": [
       "dict_items([('Microprocessor', 'Gajendra Sharma'), ('MCSC', 'Gokul'), ('DSA', 'Deni'), ('DBMS', 'Rajani')])"
      ]
     },
     "execution_count": 9,
     "metadata": {},
     "output_type": "execute_result"
    }
   ],
   "source": [
    "d.items()"
   ]
  },
  {
   "cell_type": "code",
   "execution_count": 10,
   "id": "c604a7b4",
   "metadata": {},
   "outputs": [
    {
     "data": {
      "text/plain": [
       "dict_values(['Gajendra Sharma', 'Gokul', 'Deni', 'Rajani'])"
      ]
     },
     "execution_count": 10,
     "metadata": {},
     "output_type": "execute_result"
    }
   ],
   "source": [
    "d.values()"
   ]
  },
  {
   "cell_type": "code",
   "execution_count": 11,
   "id": "d741154a",
   "metadata": {},
   "outputs": [
    {
     "data": {
      "text/plain": [
       "dict_keys(['Microprocessor', 'MCSC', 'DSA', 'DBMS'])"
      ]
     },
     "execution_count": 11,
     "metadata": {},
     "output_type": "execute_result"
    }
   ],
   "source": [
    "d.keys()"
   ]
  },
  {
   "cell_type": "code",
   "execution_count": 12,
   "id": "42313b4a",
   "metadata": {},
   "outputs": [
    {
     "data": {
      "text/plain": [
       "False"
      ]
     },
     "execution_count": 12,
     "metadata": {},
     "output_type": "execute_result"
    }
   ],
   "source": [
    "'tom'in d"
   ]
  },
  {
   "cell_type": "code",
   "execution_count": 2,
   "id": "15ffea90",
   "metadata": {},
   "outputs": [
    {
     "name": "stdout",
     "output_type": "stream",
     "text": [
      "The key \"President\" maps to the value \"Ram Chandra Paudel\"\n",
      "The key \"Prime Minister\" maps to the value \"Pushpa Kamal Dahal\"\n",
      "The key \"Education Minister\" maps to the value \"Ashok Kumar Rai\"\n",
      "The key \"Tourism Minister\" maps to the value \"Sudan Kirati\"\n",
      "The key \"DU\" maps to the value \"Kyrie\"\n"
     ]
    }
   ],
   "source": [
    ">>> names = {'President': 'Ram Chandra Paudel', 'Prime Minister': 'Pushpa Kamal Dahal', 'Education Minister': 'Ashok Kumar Rai', 'Tourism Minister': 'Sudan Kirati', 'DU': 'Kyrie'}\n",
    ">>> \n",
    ">>> for key,value in names.items() :\n",
    "...     print('The key \"' + key + '\" maps to the value \"' + value + '\"')"
   ]
  },
  {
   "cell_type": "code",
   "execution_count": 3,
   "id": "3832c0c0",
   "metadata": {},
   "outputs": [
    {
     "data": {
      "text/plain": [
       "'Kyrie'"
      ]
     },
     "execution_count": 3,
     "metadata": {},
     "output_type": "execute_result"
    }
   ],
   "source": [
    "names.pop('DU')"
   ]
  },
  {
   "cell_type": "code",
   "execution_count": 4,
   "id": "0f19727a",
   "metadata": {},
   "outputs": [
    {
     "data": {
      "text/plain": [
       "{'President': 'Ram Chandra Paudel',\n",
       " 'Prime Minister': 'Pushpa Kamal Dahal',\n",
       " 'Education Minister': 'Ashok Kumar Rai',\n",
       " 'Tourism Minister': 'Sudan Kirati'}"
      ]
     },
     "execution_count": 4,
     "metadata": {},
     "output_type": "execute_result"
    }
   ],
   "source": [
    "names"
   ]
  },
  {
   "cell_type": "code",
   "execution_count": 5,
   "id": "8401b610",
   "metadata": {},
   "outputs": [
    {
     "data": {
      "text/plain": [
       "{'A': 4, 'B': 5, 'C': 11}"
      ]
     },
     "execution_count": 5,
     "metadata": {},
     "output_type": "execute_result"
    }
   ],
   "source": [
    "a = [['A',4], ['B',5], ['C',11]]\n",
    "dict(a)"
   ]
  },
  {
   "cell_type": "code",
   "execution_count": 6,
   "id": "9ef7d96a",
   "metadata": {},
   "outputs": [
    {
     "data": {
      "text/plain": [
       "[1, 23]"
      ]
     },
     "execution_count": 6,
     "metadata": {},
     "output_type": "execute_result"
    }
   ],
   "source": [
    "d={'k1':[1,23]}\n",
    "my_list = d['k1']\n",
    "my_list"
   ]
  },
  {
   "cell_type": "code",
   "execution_count": 7,
   "id": "46e5a017",
   "metadata": {},
   "outputs": [
    {
     "data": {
      "text/plain": [
       "{'innerkey': [1, 2, 3]}"
      ]
     },
     "execution_count": 7,
     "metadata": {},
     "output_type": "execute_result"
    }
   ],
   "source": [
    "d={'k1':{'innerkey':[1,2,3]}}\n",
    "d['k1']"
   ]
  },
  {
   "cell_type": "code",
   "execution_count": 8,
   "id": "13a6ae7d",
   "metadata": {},
   "outputs": [
    {
     "data": {
      "text/plain": [
       "[1, 2, 3]"
      ]
     },
     "execution_count": 8,
     "metadata": {},
     "output_type": "execute_result"
    }
   ],
   "source": [
    "d['k1']['innerkey']"
   ]
  },
  {
   "cell_type": "code",
   "execution_count": 9,
   "id": "a59a0842",
   "metadata": {},
   "outputs": [],
   "source": [
    "d = {'k1':[1,2,3,{'tricky':['oh','man','inception',{'target':[1,2,3,'hello']}]}]}"
   ]
  },
  {
   "cell_type": "code",
   "execution_count": 10,
   "id": "bf5dd15f",
   "metadata": {},
   "outputs": [
    {
     "data": {
      "text/plain": [
       "'hello'"
      ]
     },
     "execution_count": 10,
     "metadata": {},
     "output_type": "execute_result"
    }
   ],
   "source": [
    "d['k1'][3]['tricky'][3]['target'][3]"
   ]
  },
  {
   "cell_type": "markdown",
   "id": "6f6838b7",
   "metadata": {},
   "source": [
    "# Tuples\n"
   ]
  },
  {
   "cell_type": "code",
   "execution_count": 11,
   "id": "9dc05fb6",
   "metadata": {},
   "outputs": [
    {
     "data": {
      "text/plain": [
       "(4, 5)"
      ]
     },
     "execution_count": 11,
     "metadata": {},
     "output_type": "execute_result"
    }
   ],
   "source": [
    "#Tuple have the heterogeneous values eg x-coordinate and y coordinate\n",
    "point =(4,5)\n",
    "point"
   ]
  },
  {
   "cell_type": "code",
   "execution_count": 12,
   "id": "178cf34d",
   "metadata": {},
   "outputs": [
    {
     "data": {
      "text/plain": [
       "4"
      ]
     },
     "execution_count": 12,
     "metadata": {},
     "output_type": "execute_result"
    }
   ],
   "source": [
    "point[0]"
   ]
  },
  {
   "cell_type": "markdown",
   "id": "642662f9",
   "metadata": {},
   "source": [
    "# Sets"
   ]
  },
  {
   "cell_type": "code",
   "execution_count": 13,
   "id": "b082c23d",
   "metadata": {},
   "outputs": [
    {
     "data": {
      "text/plain": [
       "[1, 1, 1, 2, 2, 3, 3]"
      ]
     },
     "execution_count": 13,
     "metadata": {},
     "output_type": "execute_result"
    }
   ],
   "source": [
    "l =[1,1,1,2,2,3,3]\n",
    "l"
   ]
  },
  {
   "cell_type": "code",
   "execution_count": 14,
   "id": "1699e756",
   "metadata": {},
   "outputs": [
    {
     "data": {
      "text/plain": [
       "{1, 2, 3}"
      ]
     },
     "execution_count": 14,
     "metadata": {},
     "output_type": "execute_result"
    }
   ],
   "source": [
    "s = set(l)\n",
    "s"
   ]
  },
  {
   "cell_type": "code",
   "execution_count": 15,
   "id": "515dc776",
   "metadata": {},
   "outputs": [],
   "source": [
    "s.add(4)"
   ]
  },
  {
   "cell_type": "code",
   "execution_count": 16,
   "id": "09f1b9e3",
   "metadata": {},
   "outputs": [
    {
     "data": {
      "text/plain": [
       "{1, 2, 3, 4}"
      ]
     },
     "execution_count": 16,
     "metadata": {},
     "output_type": "execute_result"
    }
   ],
   "source": [
    "s\n"
   ]
  },
  {
   "cell_type": "markdown",
   "id": "09c401c8",
   "metadata": {},
   "source": [
    "# Lamda Function\n"
   ]
  },
  {
   "cell_type": "code",
   "execution_count": 2,
   "id": "8d9e86d5",
   "metadata": {},
   "outputs": [],
   "source": [
    "def times2(var):\n",
    "    return var*2"
   ]
  },
  {
   "cell_type": "code",
   "execution_count": 3,
   "id": "0719b9d4",
   "metadata": {},
   "outputs": [
    {
     "data": {
      "text/plain": [
       "10"
      ]
     },
     "execution_count": 3,
     "metadata": {},
     "output_type": "execute_result"
    }
   ],
   "source": [
    "times2(5)"
   ]
  },
  {
   "cell_type": "code",
   "execution_count": 4,
   "id": "fe02ac4e",
   "metadata": {},
   "outputs": [
    {
     "data": {
      "text/plain": [
       "<function __main__.<lambda>(var)>"
      ]
     },
     "execution_count": 4,
     "metadata": {},
     "output_type": "execute_result"
    }
   ],
   "source": [
    "t = lambda var :var*2\n",
    "t"
   ]
  },
  {
   "cell_type": "code",
   "execution_count": 5,
   "id": "d9f6a6be",
   "metadata": {},
   "outputs": [
    {
     "data": {
      "text/plain": [
       "12"
      ]
     },
     "execution_count": 5,
     "metadata": {},
     "output_type": "execute_result"
    }
   ],
   "source": [
    "t(6)"
   ]
  },
  {
   "cell_type": "markdown",
   "id": "fa76079e",
   "metadata": {},
   "source": [
    "# Map and filter"
   ]
  },
  {
   "cell_type": "code",
   "execution_count": 6,
   "id": "2bab98c1",
   "metadata": {},
   "outputs": [
    {
     "data": {
      "text/plain": [
       "[2, 4, 6, 8, 10]"
      ]
     },
     "execution_count": 6,
     "metadata": {},
     "output_type": "execute_result"
    }
   ],
   "source": [
    "seq=[1,2,3,4,5]\n",
    "list(map(times2,seq))"
   ]
  },
  {
   "cell_type": "code",
   "execution_count": 7,
   "id": "3378b75f",
   "metadata": {},
   "outputs": [
    {
     "data": {
      "text/plain": [
       "[3, 6, 9, 12, 15]"
      ]
     },
     "execution_count": 7,
     "metadata": {},
     "output_type": "execute_result"
    }
   ],
   "source": [
    "list(map(lambda num :num*3,seq))"
   ]
  },
  {
   "cell_type": "code",
   "execution_count": 8,
   "id": "d4084417",
   "metadata": {},
   "outputs": [
    {
     "data": {
      "text/plain": [
       "[2, 4]"
      ]
     },
     "execution_count": 8,
     "metadata": {},
     "output_type": "execute_result"
    }
   ],
   "source": [
    "list(filter(lambda num :num%2 ==0,seq))"
   ]
  },
  {
   "cell_type": "code",
   "execution_count": 9,
   "id": "cbe8cb51",
   "metadata": {},
   "outputs": [
    {
     "data": {
      "text/plain": [
       "['soup', 'salad']"
      ]
     },
     "execution_count": 9,
     "metadata": {},
     "output_type": "execute_result"
    }
   ],
   "source": [
    "seq = ['soup','dog','salad','cat','great']\n",
    "list(filter(lambda word:word[0]=='s',seq))"
   ]
  },
  {
   "cell_type": "code",
   "execution_count": 10,
   "id": "963bd4bb",
   "metadata": {},
   "outputs": [],
   "source": [
    "def domainGet(email):\n",
    "    return email.split('@')[-1]"
   ]
  },
  {
   "cell_type": "code",
   "execution_count": 11,
   "id": "118be797",
   "metadata": {},
   "outputs": [
    {
     "data": {
      "text/plain": [
       "'domain.com'"
      ]
     },
     "execution_count": 11,
     "metadata": {},
     "output_type": "execute_result"
    }
   ],
   "source": [
    "domainGet('user@domain.com')"
   ]
  },
  {
   "cell_type": "markdown",
   "id": "abfa6dc4",
   "metadata": {},
   "source": [
    "# Methods"
   ]
  },
  {
   "cell_type": "code",
   "execution_count": null,
   "id": "73373e94",
   "metadata": {},
   "outputs": [],
   "source": []
  }
 ],
 "metadata": {
  "kernelspec": {
   "display_name": "Python 3 (ipykernel)",
   "language": "python",
   "name": "python3"
  },
  "language_info": {
   "codemirror_mode": {
    "name": "ipython",
    "version": 3
   },
   "file_extension": ".py",
   "mimetype": "text/x-python",
   "name": "python",
   "nbconvert_exporter": "python",
   "pygments_lexer": "ipython3",
   "version": "3.11.2"
  }
 },
 "nbformat": 4,
 "nbformat_minor": 5
}
