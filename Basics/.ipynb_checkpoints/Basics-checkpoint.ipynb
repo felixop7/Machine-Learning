{
 "cells": [
  {
   "cell_type": "code",
   "execution_count": 1,
   "id": "ff22fc76",
   "metadata": {},
   "outputs": [
    {
     "name": "stdout",
     "output_type": "stream",
     "text": [
      "Hello World\n"
     ]
    }
   ],
   "source": [
    "print(\"Hello World\")"
   ]
  },
  {
   "cell_type": "markdown",
   "id": "6bc22c35",
   "metadata": {},
   "source": [
    "# Variables"
   ]
  },
  {
   "cell_type": "code",
   "execution_count": 2,
   "id": "4a89cc8d",
   "metadata": {},
   "outputs": [
    {
     "data": {
      "text/plain": [
       "100"
      ]
     },
     "execution_count": 2,
     "metadata": {},
     "output_type": "execute_result"
    }
   ],
   "source": [
    "# Variables\n",
    "rent = 3500\n",
    "khana = 100\n",
    "lunch = 200\n",
    "khana"
   ]
  },
  {
   "cell_type": "code",
   "execution_count": 3,
   "id": "4fc8cff9",
   "metadata": {},
   "outputs": [
    {
     "name": "stdout",
     "output_type": "stream",
     "text": [
      "Expense Items: rent dinner lunch\n"
     ]
    },
    {
     "data": {
      "text/plain": [
       "'rent'"
      ]
     },
     "execution_count": 3,
     "metadata": {},
     "output_type": "execute_result"
    }
   ],
   "source": [
    "item1 = \"rent\"\n",
    "item2 =\"dinner\"\n",
    "item3 =\"lunch\"\n",
    "# Difference between displaying with print and without is the out\n",
    "print(\"Expense Items:\",item1,item2,item3)\n",
    "item1\n"
   ]
  },
  {
   "cell_type": "code",
   "execution_count": 5,
   "id": "1427ffa4",
   "metadata": {},
   "outputs": [
    {
     "data": {
      "text/plain": [
       "8500"
      ]
     },
     "execution_count": 5,
     "metadata": {},
     "output_type": "execute_result"
    }
   ],
   "source": [
    "total = rent + 10*khana + 20*lunch\n",
    "total"
   ]
  },
  {
   "cell_type": "markdown",
   "id": "4f4851c9",
   "metadata": {},
   "source": [
    "# Strings"
   ]
  },
  {
   "cell_type": "code",
   "execution_count": 6,
   "id": "94542aea",
   "metadata": {},
   "outputs": [
    {
     "data": {
      "text/plain": [
       "'r'"
      ]
     },
     "execution_count": 6,
     "metadata": {},
     "output_type": "execute_result"
    }
   ],
   "source": [
    "item1[0]"
   ]
  },
  {
   "cell_type": "code",
   "execution_count": 7,
   "id": "ca8ba319",
   "metadata": {},
   "outputs": [
    {
     "data": {
      "text/plain": [
       "'ent'"
      ]
     },
     "execution_count": 7,
     "metadata": {},
     "output_type": "execute_result"
    }
   ],
   "source": [
    "item1[1:]"
   ]
  },
  {
   "cell_type": "code",
   "execution_count": 8,
   "id": "86cce0e7",
   "metadata": {},
   "outputs": [
    {
     "data": {
      "text/plain": [
       "'ren'"
      ]
     },
     "execution_count": 8,
     "metadata": {},
     "output_type": "execute_result"
    }
   ],
   "source": [
    "item1[:3]"
   ]
  },
  {
   "cell_type": "code",
   "execution_count": 9,
   "id": "3bba960c",
   "metadata": {},
   "outputs": [
    {
     "data": {
      "text/plain": [
       "['UN Resident Coordinator Office Nepal held nuanced discussions on the equitable inclusion of Nepali women with regards to the digitization of finance.\"',\n",
       " 'AI ',\n",
       " 'digitization ',\n",
       " 'DigitAll ',\n",
       " 'RingTheBell ',\n",
       " 'genderequality ',\n",
       " 'womenempowerment ',\n",
       " 'techforgood']"
      ]
     },
     "execution_count": 9,
     "metadata": {},
     "output_type": "execute_result"
    }
   ],
   "source": [
    "tweet ='UN Resident Coordinator Office Nepal held nuanced discussions on the equitable inclusion of Nepali women with regards to the digitization of finance.\"#AI #digitization #DigitAll #RingTheBell #genderequality #womenempowerment #techforgood'\n",
    "tweet.split('#')"
   ]
  },
  {
   "cell_type": "code",
   "execution_count": 10,
   "id": "23bddb99",
   "metadata": {},
   "outputs": [
    {
     "name": "stdout",
     "output_type": "stream",
     "text": [
      "let\"s learn Machine Learning\n"
     ]
    },
    {
     "data": {
      "text/plain": [
       "'let\"s learn Machine Learning'"
      ]
     },
     "execution_count": 10,
     "metadata": {},
     "output_type": "execute_result"
    }
   ],
   "source": [
    "text = 'let\"s learn Machine Learning'\n",
    "print(text)\n",
    "text"
   ]
  },
  {
   "cell_type": "code",
   "execution_count": 11,
   "id": "d915e56b",
   "metadata": {},
   "outputs": [
    {
     "name": "stdout",
     "output_type": "stream",
     "text": [
      "\"let's learn python first\" -said Felix \n"
     ]
    }
   ],
   "source": [
    "another_text = '\"let\\'s learn python first\" -said Felix '\n",
    "print(another_text)\n"
   ]
  },
  {
   "cell_type": "code",
   "execution_count": 12,
   "id": "0e12c89e",
   "metadata": {},
   "outputs": [
    {
     "name": "stdout",
     "output_type": "stream",
     "text": [
      "28-kilo \n",
      "Dhulikhel\n",
      "Kavre\n",
      "\n"
     ]
    },
    {
     "data": {
      "text/plain": [
       "'28-kilo \\nDhulikhel\\nKavre\\n'"
      ]
     },
     "execution_count": 12,
     "metadata": {},
     "output_type": "execute_result"
    }
   ],
   "source": [
    "address ='''28-kilo \n",
    "Dhulikhel\n",
    "Kavre\n",
    "'''\n",
    "print(address)\n",
    "address"
   ]
  },
  {
   "cell_type": "markdown",
   "id": "4e03632b",
   "metadata": {},
   "source": [
    "# Inputs"
   ]
  },
  {
   "cell_type": "code",
   "execution_count": 13,
   "id": "f849d93c",
   "metadata": {},
   "outputs": [
    {
     "name": "stdout",
     "output_type": "stream",
     "text": [
      "Enter a number: 54\n"
     ]
    },
    {
     "data": {
      "text/plain": [
       "str"
      ]
     },
     "execution_count": 13,
     "metadata": {},
     "output_type": "execute_result"
    }
   ],
   "source": [
    "num = 69\n",
    "num = input(\"Enter a number: \")\n",
    "\n",
    "type(num)"
   ]
  },
  {
   "cell_type": "code",
   "execution_count": 14,
   "id": "931b4374",
   "metadata": {},
   "outputs": [
    {
     "data": {
      "text/plain": [
       "42.0"
      ]
     },
     "execution_count": 14,
     "metadata": {},
     "output_type": "execute_result"
    }
   ],
   "source": [
    "num =42\n",
    "float(num)"
   ]
  },
  {
   "cell_type": "code",
   "execution_count": 15,
   "id": "69e03829",
   "metadata": {},
   "outputs": [
    {
     "data": {
      "text/plain": [
       "'total states in Nepal is: 7'"
      ]
     },
     "execution_count": 15,
     "metadata": {},
     "output_type": "execute_result"
    }
   ],
   "source": [
    "s = 'total states in Nepal is: '\n",
    "num =7\n",
    "s + str(num)"
   ]
  },
  {
   "cell_type": "markdown",
   "id": "4fb30cc2",
   "metadata": {},
   "source": [
    "# Operators"
   ]
  },
  {
   "cell_type": "code",
   "execution_count": 1,
   "id": "18046b50",
   "metadata": {},
   "outputs": [
    {
     "data": {
      "text/plain": [
       "1.5555555555555556"
      ]
     },
     "execution_count": 1,
     "metadata": {},
     "output_type": "execute_result"
    }
   ],
   "source": [
    "distance = 28\n",
    "speed = 18\n",
    "time = distance/speed\n",
    "time"
   ]
  },
  {
   "cell_type": "code",
   "execution_count": 2,
   "id": "799d00fa",
   "metadata": {},
   "outputs": [
    {
     "data": {
      "text/plain": [
       "1.56"
      ]
     },
     "execution_count": 2,
     "metadata": {},
     "output_type": "execute_result"
    }
   ],
   "source": [
    "round(time,2)"
   ]
  },
  {
   "cell_type": "code",
   "execution_count": 3,
   "id": "8f157aa7",
   "metadata": {},
   "outputs": [
    {
     "data": {
      "text/plain": [
       "0.2999999999999998"
      ]
     },
     "execution_count": 3,
     "metadata": {},
     "output_type": "execute_result"
    }
   ],
   "source": [
    "6-5.7\n",
    "#Accuracy and precision problem"
   ]
  },
  {
   "cell_type": "markdown",
   "id": "32484d3b",
   "metadata": {},
   "source": [
    "# Logical"
   ]
  },
  {
   "cell_type": "code",
   "execution_count": 6,
   "id": "bbda2f2d",
   "metadata": {},
   "outputs": [
    {
     "name": "stdout",
     "output_type": "stream",
     "text": [
      "odd\n"
     ]
    }
   ],
   "source": [
    "#logical\n",
    "num=7\n",
    "num = int(num)\n",
    "if num  == 0:\n",
    "    print(\"Zero\")\n",
    "elif num %2 ==0:\n",
    "    print(\"Even\")\n",
    "else:\n",
    "    print(\"odd\")"
   ]
  },
  {
   "cell_type": "code",
   "execution_count": 7,
   "id": "db8cafc0",
   "metadata": {},
   "outputs": [
    {
     "data": {
      "text/plain": [
       "True"
      ]
     },
     "execution_count": 7,
     "metadata": {},
     "output_type": "execute_result"
    }
   ],
   "source": [
    "3 > 2 and 4>1"
   ]
  },
  {
   "cell_type": "code",
   "execution_count": 8,
   "id": "041e2307",
   "metadata": {},
   "outputs": [
    {
     "data": {
      "text/plain": [
       "False"
      ]
     },
     "execution_count": 8,
     "metadata": {},
     "output_type": "execute_result"
    }
   ],
   "source": [
    "3>2 and 3 ==2"
   ]
  },
  {
   "cell_type": "code",
   "execution_count": 9,
   "id": "ca7190d3",
   "metadata": {},
   "outputs": [
    {
     "name": "stdout",
     "output_type": "stream",
     "text": [
      "middle\n"
     ]
    }
   ],
   "source": [
    "if 1 == 2:\n",
    "    print('first')\n",
    "elif 3 == 3:\n",
    "    print('middle')\n",
    "elif 4==4:\n",
    "    print(\"Second Last\")\n",
    "else:\n",
    "\n",
    "    print('Last')"
   ]
  },
  {
   "cell_type": "markdown",
   "id": "70b36015",
   "metadata": {},
   "source": [
    "# LOOPs:\n",
    "\n"
   ]
  },
  {
   "cell_type": "markdown",
   "id": "98165e67",
   "metadata": {},
   "source": [
    "\n",
    "item1 = \"rent\"\n",
    "item2 =\"dinner\"\n",
    "item3 =\"lunch\"\n",
    "costs =[3500,6000,3000,4000,2000]\n",
    "items =[item1,item2,item3]\n",
    "\n",
    "print(items)\n",
    "items+costs\n"
   ]
  },
  {
   "cell_type": "code",
   "execution_count": 2,
   "id": "f2700d7a",
   "metadata": {},
   "outputs": [
    {
     "data": {
      "text/plain": [
       "5"
      ]
     },
     "execution_count": 2,
     "metadata": {},
     "output_type": "execute_result"
    }
   ],
   "source": [
    "len(costs)\n"
   ]
  },
  {
   "cell_type": "code",
   "execution_count": 3,
   "id": "a7b55a17",
   "metadata": {},
   "outputs": [
    {
     "data": {
      "text/plain": [
       "[3500, 6000, 3000, 4000, 2000]"
      ]
     },
     "execution_count": 3,
     "metadata": {},
     "output_type": "execute_result"
    }
   ],
   "source": [
    "costs"
   ]
  },
  {
   "cell_type": "code",
   "execution_count": 4,
   "id": "19034d9a",
   "metadata": {},
   "outputs": [
    {
     "name": "stdout",
     "output_type": "stream",
     "text": [
      "18500\n"
     ]
    }
   ],
   "source": [
    "sum = 0\n",
    "for cost in costs:\n",
    "    sum += cost\n",
    "print(sum)"
   ]
  },
  {
   "cell_type": "code",
   "execution_count": 6,
   "id": "b0953b5d",
   "metadata": {},
   "outputs": [
    {
     "data": {
      "text/plain": [
       "[0, 1, 2, 3, 4]"
      ]
     },
     "execution_count": 6,
     "metadata": {},
     "output_type": "execute_result"
    }
   ],
   "source": [
    "list(range(0,5))"
   ]
  },
  {
   "cell_type": "code",
   "execution_count": 7,
   "id": "52ec0113",
   "metadata": {},
   "outputs": [
    {
     "data": {
      "text/plain": [
       "[0, 1, 2, 3, 4, 5, 6, 7, 8, 9]"
      ]
     },
     "execution_count": 7,
     "metadata": {},
     "output_type": "execute_result"
    }
   ],
   "source": [
    "list(range(10))"
   ]
  },
  {
   "cell_type": "code",
   "execution_count": 8,
   "id": "5cf358c9",
   "metadata": {},
   "outputs": [
    {
     "name": "stdout",
     "output_type": "stream",
     "text": [
      "1\n",
      "2\n",
      "3\n",
      "4\n",
      "5\n",
      "6\n",
      "7\n",
      "8\n",
      "9\n",
      "10\n"
     ]
    }
   ],
   "source": [
    "# To print 1 to 10\n",
    "for i in range(1,11):\n",
    "    print(i)"
   ]
  },
  {
   "cell_type": "code",
   "execution_count": 9,
   "id": "22ac235c",
   "metadata": {},
   "outputs": [
    {
     "name": "stdout",
     "output_type": "stream",
     "text": [
      "1\n",
      "2\n",
      "3\n",
      "4\n",
      "5\n"
     ]
    }
   ],
   "source": [
    "i=1\n",
    "while i<=5 :\n",
    "    print(i)\n",
    "    i=i+1"
   ]
  },
  {
   "cell_type": "code",
   "execution_count": 10,
   "id": "b4d995e8",
   "metadata": {},
   "outputs": [
    {
     "name": "stdout",
     "output_type": "stream",
     "text": [
      "1\n"
     ]
    }
   ],
   "source": [
    "\"\"\"Print square of all numbers between 1 to 10 except even numbers\"\"\"\n",
    "for i in range(1,11):\n",
    "    if i % 2 == 0:\n",
    "        break\n",
    "    else:\n",
    "        print(i)"
   ]
  },
  {
   "cell_type": "code",
   "execution_count": 11,
   "id": "ef61795b",
   "metadata": {},
   "outputs": [
    {
     "name": "stdout",
     "output_type": "stream",
     "text": [
      "1\n"
     ]
    }
   ],
   "source": [
    "\"\"\"Print square of all numbers between 1 to 10 except even numbers\"\"\"\n",
    "for i in range(1,11):\n",
    "    if i % 2 == 0:\n",
    "        break\n",
    "    else:\n",
    "        print(i)\n",
    "else:\n",
    "    print(\"Finished\")"
   ]
  },
  {
   "cell_type": "code",
   "execution_count": 12,
   "id": "11297a59",
   "metadata": {},
   "outputs": [
    {
     "name": "stdout",
     "output_type": "stream",
     "text": [
      "r\n",
      "e\n",
      "n\n",
      "t\n"
     ]
    }
   ],
   "source": [
    "items[0]\n",
    "for i in items[0]:\n",
    "    print(i)"
   ]
  },
  {
   "cell_type": "markdown",
   "id": "f77b5790",
   "metadata": {},
   "source": [
    "# Functions"
   ]
  }
 ],
 "metadata": {
  "kernelspec": {
   "display_name": "Python 3 (ipykernel)",
   "language": "python",
   "name": "python3"
  },
  "language_info": {
   "codemirror_mode": {
    "name": "ipython",
    "version": 3
   },
   "file_extension": ".py",
   "mimetype": "text/x-python",
   "name": "python",
   "nbconvert_exporter": "python",
   "pygments_lexer": "ipython3",
   "version": "3.11.2"
  }
 },
 "nbformat": 4,
 "nbformat_minor": 5
}
